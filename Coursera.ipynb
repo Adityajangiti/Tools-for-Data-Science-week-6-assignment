{
 "cells": [
  {
   "cell_type": "markdown",
   "id": "e522018d",
   "metadata": {},
   "source": [
    "## My Jupyter Notebook on IBM Watson Studio\n",
    "This is a notebook for practicing various data science concepts."
   ]
  },
  {
   "cell_type": "markdown",
   "id": "9bd313b0",
   "metadata": {},
   "source": [
    "## Introduction\n",
    "In this notebook, we will be exploring various data science topics such as programming languages, libraries, and tools. We will also be practicing basic arithmetic operations using Python."
   ]
  },
  {
   "cell_type": "markdown",
   "id": "c224462f",
   "metadata": {},
   "source": [
    "## Data Science Languages\n",
    "- Python\n",
    "- R\n",
    "- SQL\n",
    "- Java\n",
    "- Julia\n",
    "- Scala\n",
    "- MATLAB\n",
    "- SAS"
   ]
  },
  {
   "cell_type": "markdown",
   "id": "41a37c65",
   "metadata": {},
   "source": [
    "## Data Science Libraries\n",
    "- NumPy\n",
    "- Pandas\n",
    "- Matplotlib\n",
    "- Seaborn\n",
    "- Scikit-learn\n",
    "- TensorFlow\n",
    "- Keras\n",
    "- PyTorch"
   ]
  },
  {
   "cell_type": "markdown",
   "id": "4f867a45",
   "metadata": {},
   "source": [
    "## Data Science Tools\n",
    "| Tools | Description | \n",
    "| --- | --- |\n",
    "| Jupyter Notebook | Interactive computing environment | \n",
    "| Anaconda | Open source distribution of Python | \n",
    "| Git | Version control system |\n",
    "| Tableau | Data visualization software |\n",
    "| Databricks | \tCloud-based platform for data engineering |\n",
    "|Apache Spark | Cluster-computing framework |\n",
    "| Hadoop | Distributed storage and processing system |\n"
   ]
  },
  {
   "cell_type": "markdown",
   "id": "1813b70f",
   "metadata": {},
   "source": [
    "## Arithmetic Expression Examples\n",
    "In the following code cells, we will be practicing basic arithmetic operations such as multiplication and addition."
   ]
  },
  {
   "cell_type": "code",
   "execution_count": 1,
   "id": "bdae0ee5",
   "metadata": {},
   "outputs": [
    {
     "data": {
      "text/plain": [
       "6"
      ]
     },
     "execution_count": 1,
     "metadata": {},
     "output_type": "execute_result"
    }
   ],
   "source": [
    "# Multiplication\n",
    "2 * 3\n"
   ]
  },
  {
   "cell_type": "code",
   "execution_count": 2,
   "id": "f72b55cd",
   "metadata": {},
   "outputs": [
    {
     "data": {
      "text/plain": [
       "5"
      ]
     },
     "execution_count": 2,
     "metadata": {},
     "output_type": "execute_result"
    }
   ],
   "source": [
    "# Addition\n",
    "2 + 3\n"
   ]
  },
  {
   "cell_type": "markdown",
   "id": "b0f7fa86",
   "metadata": {},
   "source": [
    "## Objectives\n",
    "- Learn about data science programming languages\n",
    "- Explore common data science libraries\n",
    "- Familiarize ourselves with popular data science tools\n",
    "- Practice basic arithmetic operations in Python"
   ]
  },
  {
   "cell_type": "markdown",
   "id": "ebfde44f",
   "metadata": {},
   "source": [
    "## Author\n",
    "This notebook was created by [Aditya Jangiti]."
   ]
  },
  {
   "cell_type": "code",
   "execution_count": null,
   "id": "974af1e3",
   "metadata": {},
   "outputs": [],
   "source": []
  }
 ],
 "metadata": {
  "kernelspec": {
   "display_name": "Python 3 (ipykernel)",
   "language": "python",
   "name": "python3"
  },
  "language_info": {
   "codemirror_mode": {
    "name": "ipython",
    "version": 3
   },
   "file_extension": ".py",
   "mimetype": "text/x-python",
   "name": "python",
   "nbconvert_exporter": "python",
   "pygments_lexer": "ipython3",
   "version": "3.9.12"
  }
 },
 "nbformat": 4,
 "nbformat_minor": 5
}
